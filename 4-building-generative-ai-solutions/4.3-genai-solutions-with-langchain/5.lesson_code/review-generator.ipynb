{
 "cells": [
  {
   "cell_type": "code",
   "execution_count": 2,
   "metadata": {},
   "outputs": [
    {
     "name": "stdout",
     "output_type": "stream",
     "text": [
      "TV Name: StellarVision Ultra HD\n",
      "\n",
      "Review Title,Review Rating,Review Text\n",
      "\"Amazing Picture Quality!\",9,\"I am blown away by the picture quality of the StellarVision Ultra HD! The colors are vibrant, the contrast is excellent, and the details are crystal clear. Watching movies and playing games on this TV is an absolute delight.\"\n",
      "\"Disappointing Sound Quality\",4,\"While the picture quality of the StellarVision Ultra HD is impressive, I am quite disappointed with the sound quality. The built-in speakers lack depth and clarity, and I often find myself struggling to hear dialogue clearly.\"\n",
      "\"Unbelievable Value for Money\",10,\"The StellarVision Ultra HD is an absolute steal for the price! It offers picture quality that rivals much more expensive TVs on the market. I couldn't be happier with my purchase.\"\n",
      "\"Easy to Set Up and Use\",8,\"Setting up the StellarVision Ultra HD was a breeze. The instructions were clear, and the TV interface is intuitive and user-friendly. I had it up and running in no time!\"\n",
      "\"Stunning Design\",9,\"The sleek and modern design of the StellarVision Ultra HD is a real eye-catcher. It adds a touch of elegance to my living room and complements my home decor perfectly.\"\n",
      "\"Great Connectivity Options\",7,\"The StellarVision Ultra HD offers a wide range of connectivity options, including multiple HDMI ports and USB inputs. It's convenient for connecting various devices and accessories.\"\n",
      "\"Average Viewing Angles\",6,\"While the picture quality of the StellarVision Ultra HD is excellent when viewed head-on, the viewing angles are a bit limited. The colors tend to wash out when watching from the sides.\"\n",
      "\"Excellent Smart Features\",9,\"The smart features of the StellarVision Ultra HD are top-notch. It has a variety of streaming apps built-in, and the interface is smooth and responsive. I love being able to access my favorite content with just a few clicks.\"\n",
      "\"Remote Control Could Be Better\",5,\"The remote control that comes with the StellarVision Ultra HD feels a bit cheap and flimsy. The buttons are not very responsive, and it could definitely use some improvement.\"\n",
      "\"Outstanding Customer Service\",10,\"I had a minor issue with my StellarVision Ultra HD, and the customer service team was incredibly helpful and responsive. They quickly resolved my problem, and I am impressed with their level of support.\"\n",
      "\n",
      "TV Name: VisionaryMax 4K OLED\n",
      "\n",
      "Review Title,Review Rating,Review Text\n",
      "\"Mind-Blowing Picture Quality!\",10,\"The VisionaryMax 4K OLED delivers an unparalleled viewing experience! The colors are incredibly vibrant, the blacks are deep and true, and the details are astonishingly sharp. It's like watching movies and shows come to life!\"\n",
      "\"Immersive Sound Experience\",8,\"The sound quality of the VisionaryMax 4K OLED is impressive. The built-in speakers produce rich and immersive audio, making me feel like I'm in a movie theater. It adds a whole new dimension to my entertainment.\"\n",
      "\"Expensive but Worth It\",9,\"The VisionaryMax 4K OLED is definitely on the pricier side, but it's worth every penny. The picture quality and overall performance are unmatched. If you're a true cinephile or gaming enthusiast, this TV is a dream come true.\"\n",
      "\"Sleek and Minimalistic Design\",9,\"The VisionaryMax 4K OLED has a sleek and minimalistic design that adds a touch of elegance to any room. The ultra-thin bezels and slim profile make it look like a piece of art on my wall.\"\n",
      "\"User-Friendly Interface\",7,\"Navigating through the VisionaryMax 4K OLED's interface is fairly easy and intuitive. However, I wish it had a more extensive selection of pre-installed apps. Nonetheless, it's still a great smart TV.\"\n",
      "\"Excellent Viewing Angles\",9,\"The VisionaryMax 4K OLED offers exceptional viewing angles. No matter where I sit in the room, the picture quality remains consistent, with no color distortion or loss of detail. It's perfect for group viewing.\"\n",
      "\"Versatile Connectivity Options\",8,\"The VisionaryMax 4K OLED provides a wide range of connectivity options, including multiple HDMI ports, USB inputs, and Bluetooth. It's convenient for connecting various devices and accessories without any hassle.\"\n",
      "\"Remote Control with Voice Command\",6,\"The VisionaryMax 4K OLED comes with a remote control that features voice command functionality. While it's a cool feature, it doesn't always recognize my voice accurately, which can be frustrating at times.\"\n",
      "\"Exceptional Gaming Performance\",10,\"As a gamer, the VisionaryMax 4K OLED has exceeded my expectations. The low input lag and high refresh rate make gaming incredibly smooth and responsive. It's a game-changer for competitive gaming.\"\n",
      "\"Top-Notch Customer Support\",10,\"I had a minor issue with my VisionaryMax 4K OLED, and the customer support team went above and beyond to assist me. They were prompt, knowledgeable, and resolved my problem to my utmost satisfaction.\"\n"
     ]
    }
   ],
   "source": [
    "from langchain.llms import OpenAI\n",
    "from langchain.prompts import PromptTemplate\n",
    "\n",
    "import os\n",
    "\n",
    "os.environ[\"OPENAI_API_KEY\"] = \"YOUR API KEY\"\n",
    "os.environ[\"OPENAI_API_BASE\"] = \"https://openai.vocareum.com/v1\"\n",
    "\n",
    "model_name = \"gpt-3.5-turbo\"\n",
    "temperature = 0.0\n",
    "llm = OpenAI(model_name=model_name, temperature=temperature, max_tokens = 4000)\n",
    "\n",
    "data_gen_template=\"\"\"\n",
    "generate csv formatted reviews for two different imaginary TVs. come up with a name for each one. \n",
    "for each tv, generate {num_reviews} reviews, with random number of positive and negatives reviews. \n",
    "each review will have these fields in the csv: tv name, review title, review rating (1-10), review text\n",
    "be creative in your reviews, amaze us, csv format is a must.  \n",
    "\"\"\"\n",
    "data_gen_prompt = PromptTemplate.from_template(data_gen_template)\n",
    "\n",
    "print(llm(data_gen_prompt.format(num_reviews = 10)))"
   ]
  }
 ],
 "metadata": {
  "kernelspec": {
   "display_name": "Python 3 (ipykernel)",
   "language": "python",
   "name": "python3"
  },
  "language_info": {
   "codemirror_mode": {
    "name": "ipython",
    "version": 3
   },
   "file_extension": ".py",
   "mimetype": "text/x-python",
   "name": "python",
   "nbconvert_exporter": "python",
   "pygments_lexer": "ipython3",
   "version": "3.10.13"
  }
 },
 "nbformat": 4,
 "nbformat_minor": 2
}
