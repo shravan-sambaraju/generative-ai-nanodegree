{
 "cells": [
  {
   "cell_type": "markdown",
   "id": "a06f9e37",
   "metadata": {},
   "source": [
    "# Step 1: Preparing a Dataset with Embeddings"
   ]
  },
  {
   "cell_type": "markdown",
   "id": "a4c4c0d4",
   "metadata": {},
   "source": [
    "Add your API key to the cell below then run it."
   ]
  },
  {
   "cell_type": "code",
   "execution_count": null,
   "id": "e61cb2a2",
   "metadata": {},
   "outputs": [],
   "source": [
    "import openai\n",
    "openai.api_key = \"YOUR API KEY\""
   ]
  },
  {
   "cell_type": "markdown",
   "id": "d3afc763",
   "metadata": {},
   "source": [
    "## Loading the Data\n",
    "\n",
    "We are using the `requests` library ([documentation here](https://requests.readthedocs.io/en/latest/user/quickstart/)) to get the text of a page from Wikipedia using the `extracts` API feature ([documentation here](https://www.mediawiki.org/w/api.php?action=help&modules=query%2Bextracts)). You can ignore the details of the `params` being sent — the important takeaway is that **`response_dict` is a Python dictionary containing the the response to our query**.\n",
    "\n",
    "Run the cell below as-is."
   ]
  },
  {
   "cell_type": "code",
   "execution_count": null,
   "id": "a1de826b",
   "metadata": {},
   "outputs": [],
   "source": [
    "import requests\n",
    "\n",
    "# Get the Wikipedia page for the 2023 Turkey–Syria earthquake\n",
    "params = {\n",
    "    \"action\": \"query\", \n",
    "    \"prop\": \"extracts\",\n",
    "    \"exlimit\": 1,\n",
    "    \"titles\": \"2023_Turkey–Syria_earthquakes\",\n",
    "    \"explaintext\": 1,\n",
    "    \"formatversion\": 2,\n",
    "    \"format\": \"json\"\n",
    "}\n",
    "resp = requests.get(\"https://en.wikipedia.org/w/api.php\", params=params)\n",
    "response_dict = resp.json()"
   ]
  },
  {
   "cell_type": "code",
   "execution_count": null,
   "id": "ca51f704",
   "metadata": {},
   "outputs": [],
   "source": [
    "response_dict"
   ]
  },
  {
   "cell_type": "markdown",
   "id": "6389de6f",
   "metadata": {},
   "source": [
    "### TODO: Parse `response_dict` to get a list of text data samples\n",
    "\n",
    "Look at the nested data structure of `response_dict` and find the key-value pair with the key of `\"extract\"`. The associated value will be a string containing a long block of text. Split this text into a list of strings using the `\"\\n\"` separator and assign to the variable `text_data`.\n",
    "\n",
    "If you're getting stuck, you can click to reveal the solution then copy and paste this into the cell below.\n",
    "\n",
    "---\n",
    "\n",
    "<details>\n",
    "    <summary style=\"cursor: pointer\"><strong>Solution (click to show/hide)</strong></summary>\n",
    "\n",
    "```python\n",
    "text_data = response_dict[\"query\"][\"pages\"][0][\"extract\"].split(\"\\n\")\n",
    "```\n",
    "\n",
    "</details>"
   ]
  },
  {
   "cell_type": "code",
   "execution_count": null,
   "id": "7f3af0a3",
   "metadata": {},
   "outputs": [],
   "source": [
    "text_data = "
   ]
  },
  {
   "cell_type": "markdown",
   "id": "4188cc41",
   "metadata": {},
   "source": [
    "### Adding the Text Data to a DataFrame\n",
    "\n",
    "Run the cell below as-is."
   ]
  },
  {
   "cell_type": "code",
   "execution_count": null,
   "id": "0122c493",
   "metadata": {},
   "outputs": [],
   "source": [
    "import pandas as pd\n",
    "\n",
    "# Load page text into a dataframe\n",
    "df = pd.DataFrame()\n",
    "df[\"text\"] = text_data\n",
    "\n",
    "# Clean up dataframe to remove empty lines and headings\n",
    "df = df[(\n",
    "    (df[\"text\"].str.len() > 0) & (~df[\"text\"].str.startswith(\"==\"))\n",
    ")].reset_index(drop=True)\n",
    "df.head()"
   ]
  },
  {
   "cell_type": "markdown",
   "id": "5e5959a8",
   "metadata": {},
   "source": [
    "## Creating the Embeddings Index\n",
    "\n",
    "Here is the text from the first row of our dataset. Run the cell below as-is."
   ]
  },
  {
   "cell_type": "code",
   "execution_count": null,
   "id": "665694c1",
   "metadata": {},
   "outputs": [],
   "source": [
    "df[\"text\"][0]"
   ]
  },
  {
   "cell_type": "markdown",
   "id": "bbe91fcf",
   "metadata": {},
   "source": [
    "This code creates embeddings for that text sample. Run the cell below as-is."
   ]
  },
  {
   "cell_type": "code",
   "execution_count": null,
   "id": "5bf5757b",
   "metadata": {
    "scrolled": true
   },
   "outputs": [],
   "source": [
    "EMBEDDING_MODEL_NAME = \"text-embedding-ada-002\"\n",
    "response = openai.Embedding.create(\n",
    "    input=[df[\"text\"][0]],\n",
    "    engine=EMBEDDING_MODEL_NAME\n",
    ")\n",
    "\n",
    "# Extract and print the first 20 numbers in the embedding\n",
    "response_list = response[\"data\"]\n",
    "first_item = response_list[0]\n",
    "first_item_embedding = first_item[\"embedding\"]\n",
    "print(first_item_embedding[:20])"
   ]
  },
  {
   "cell_type": "markdown",
   "id": "12ee242f",
   "metadata": {},
   "source": [
    "### Creating a list of embeddings\n",
    "\n",
    "This code sends all of the data from `df[\"text\"].tolist()` to the `openai.Embedding.create` function, then extracts the resulting embeddings and creates a list of embeddings called `embeddings`.\n",
    "\n",
    "Run the cell below as-is."
   ]
  },
  {
   "cell_type": "code",
   "execution_count": null,
   "id": "643d85e6",
   "metadata": {},
   "outputs": [],
   "source": [
    "# Send text data to the model\n",
    "response = openai.Embedding.create(\n",
    "    input=df[\"text\"].tolist(),\n",
    "    engine=EMBEDDING_MODEL_NAME\n",
    ")\n",
    "\n",
    "# Extract embeddings\n",
    "embeddings = [data[\"embedding\"] for data in response[\"data\"]]"
   ]
  },
  {
   "cell_type": "markdown",
   "id": "473f5235",
   "metadata": {},
   "source": [
    "### Adding Embeddings to DataFrame and Saving as CSV\n",
    "\n",
    "Run the cell below as-is."
   ]
  },
  {
   "cell_type": "code",
   "execution_count": null,
   "id": "8a919041",
   "metadata": {},
   "outputs": [],
   "source": [
    "# Add embeddings list to dataframe\n",
    "df[\"embeddings\"] = embeddings\n",
    "df.to_csv(\"embeddings.csv\")"
   ]
  },
  {
   "cell_type": "markdown",
   "id": "8333c4ba",
   "metadata": {},
   "source": [
    "## Conclusion\n",
    "\n",
    "You have now created and saved an embeddings index!"
   ]
  }
 ],
 "metadata": {
  "kernelspec": {
   "display_name": "Python 3 (ipykernel)",
   "language": "python",
   "name": "python3"
  },
  "language_info": {
   "codemirror_mode": {
    "name": "ipython",
    "version": 3
   },
   "file_extension": ".py",
   "mimetype": "text/x-python",
   "name": "python",
   "nbconvert_exporter": "python",
   "pygments_lexer": "ipython3",
   "version": "3.9.18"
  }
 },
 "nbformat": 4,
 "nbformat_minor": 5
}
